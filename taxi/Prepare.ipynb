{
 "metadata": {
  "language_info": {
   "codemirror_mode": {
    "name": "ipython",
    "version": 3
   },
   "file_extension": ".py",
   "mimetype": "text/x-python",
   "name": "python",
   "nbconvert_exporter": "python",
   "pygments_lexer": "ipython3",
   "version": "3.8.5-final"
  },
  "orig_nbformat": 2,
  "kernelspec": {
   "name": "Python 3.8.5 64-bit",
   "display_name": "Python 3.8.5 64-bit",
   "metadata": {
    "interpreter": {
     "hash": "bbc1886ecb654281effdac017bd5adf6a19d200d2d30f9ded35574b2168481c7"
    }
   }
  }
 },
 "nbformat": 4,
 "nbformat_minor": 2,
 "cells": [
  {
   "cell_type": "code",
   "execution_count": 3,
   "metadata": {},
   "outputs": [],
   "source": [
    "from azureml.opendatasets import NycTlcGreen\n",
    "import pandas as pd\n",
    "from datetime import datetime\n",
    "from dateutil.relativedelta import relativedelta"
   ]
  },
  {
   "cell_type": "code",
   "execution_count": 5,
   "metadata": {
    "tags": []
   },
   "outputs": [
    {
     "output_type": "stream",
     "name": "stdout",
     "text": "[Info] read from C:\\Users\\ANNEMA~1\\AppData\\Local\\Temp\\tmpizf8acn0\\https%3A\\%2Fazureopendatastorage.azurefd.net\\nyctlc\\green\\puYear=2015\\puMonth=1\\part-00175-tid-4753095944193949832-fee7e113-666d-4114-9fcb-bcd3046479f3-2745-1.c000.snappy.parquet\n[Info] read from C:\\Users\\ANNEMA~1\\AppData\\Local\\Temp\\tmpa0bz61y0\\https%3A\\%2Fazureopendatastorage.azurefd.net\\nyctlc\\green\\puYear=2015\\puMonth=2\\part-00007-tid-4753095944193949832-fee7e113-666d-4114-9fcb-bcd3046479f3-2577-1.c000.snappy.parquet\n[Info] read from C:\\Users\\ANNEMA~1\\AppData\\Local\\Temp\\tmp3te5hwkt\\https%3A\\%2Fazureopendatastorage.azurefd.net\\nyctlc\\green\\puYear=2015\\puMonth=3\\part-00133-tid-4753095944193949832-fee7e113-666d-4114-9fcb-bcd3046479f3-2703-1.c000.snappy.parquet\n[Info] read from C:\\Users\\ANNEMA~1\\AppData\\Local\\Temp\\tmpcvwbxpfc\\https%3A\\%2Fazureopendatastorage.azurefd.net\\nyctlc\\green\\puYear=2015\\puMonth=4\\part-00073-tid-4753095944193949832-fee7e113-666d-4114-9fcb-bcd3046479f3-2643-1.c000.snappy.parquet\n[Info] read from C:\\Users\\ANNEMA~1\\AppData\\Local\\Temp\\tmpgbolwg0i\\https%3A\\%2Fazureopendatastorage.azurefd.net\\nyctlc\\green\\puYear=2015\\puMonth=5\\part-00177-tid-4753095944193949832-fee7e113-666d-4114-9fcb-bcd3046479f3-2747-1.c000.snappy.parquet\n[Info] read from C:\\Users\\ANNEMA~1\\AppData\\Local\\Temp\\tmp_g9g9h9i\\https%3A\\%2Fazureopendatastorage.azurefd.net\\nyctlc\\green\\puYear=2015\\puMonth=6\\part-00156-tid-4753095944193949832-fee7e113-666d-4114-9fcb-bcd3046479f3-2726-2.c000.snappy.parquet\n[Info] read from C:\\Users\\ANNEMA~1\\AppData\\Local\\Temp\\tmp14xfbw1p\\https%3A\\%2Fazureopendatastorage.azurefd.net\\nyctlc\\green\\puYear=2015\\puMonth=7\\part-00147-tid-4753095944193949832-fee7e113-666d-4114-9fcb-bcd3046479f3-2717-1.c000.snappy.parquet\n[Info] read from C:\\Users\\ANNEMA~1\\AppData\\Local\\Temp\\tmptxr50l31\\https%3A\\%2Fazureopendatastorage.azurefd.net\\nyctlc\\green\\puYear=2015\\puMonth=8\\part-00074-tid-4753095944193949832-fee7e113-666d-4114-9fcb-bcd3046479f3-2644-1.c000.snappy.parquet\n[Info] read from C:\\Users\\ANNEMA~1\\AppData\\Local\\Temp\\tmpdn6lwtjv\\https%3A\\%2Fazureopendatastorage.azurefd.net\\nyctlc\\green\\puYear=2015\\puMonth=9\\part-00092-tid-4753095944193949832-fee7e113-666d-4114-9fcb-bcd3046479f3-2662-1.c000.snappy.parquet\n[Info] read from C:\\Users\\ANNEMA~1\\AppData\\Local\\Temp\\tmp_4j0vgi1\\https%3A\\%2Fazureopendatastorage.azurefd.net\\nyctlc\\green\\puYear=2015\\puMonth=10\\part-00105-tid-4753095944193949832-fee7e113-666d-4114-9fcb-bcd3046479f3-2675-1.c000.snappy.parquet\n[Info] read from C:\\Users\\ANNEMA~1\\AppData\\Local\\Temp\\tmp2z2svmub\\https%3A\\%2Fazureopendatastorage.azurefd.net\\nyctlc\\green\\puYear=2015\\puMonth=11\\part-00089-tid-4753095944193949832-fee7e113-666d-4114-9fcb-bcd3046479f3-2659-1.c000.snappy.parquet\n[Info] read from C:\\Users\\ANNEMA~1\\AppData\\Local\\Temp\\tmphotbbjut\\https%3A\\%2Fazureopendatastorage.azurefd.net\\nyctlc\\green\\puYear=2015\\puMonth=12\\part-00020-tid-4753095944193949832-fee7e113-666d-4114-9fcb-bcd3046479f3-2590-1.c000.snappy.parquet\n"
    },
    {
     "output_type": "execute_result",
     "data": {
      "text/plain": "         vendorID  lpepPickupDatetime lpepDropoffDatetime  passengerCount  \\\n1493983         2 2015-01-30 10:28:50 2015-01-30 10:51:08               1   \n1278663         2 2015-01-14 15:55:24 2015-01-14 15:55:41               1   \n625784          2 2015-01-03 22:36:34 2015-01-03 22:41:06               1   \n920350          1 2015-01-08 21:11:18 2015-01-08 21:27:40               1   \n1136994         2 2015-01-18 00:04:21 2015-01-18 00:12:37               1   \n284569          2 2015-01-02 22:37:44 2015-01-02 22:39:32               1   \n575314          1 2015-01-27 18:07:36 2015-01-27 18:13:16               1   \n1089752         2 2015-01-03 14:21:00 2015-01-03 14:30:02               1   \n422988          2 2015-01-20 01:13:55 2015-01-20 01:17:40               1   \n435274          2 2015-01-20 10:44:09 2015-01-20 10:52:41               1   \n\n         tripDistance puLocationId doLocationId  pickupLongitude  \\\n1493983          2.79         None         None       -73.933907   \n1278663          0.00         None         None       -73.907806   \n625784           0.01         None         None       -73.962875   \n920350           3.20         None         None       -73.910858   \n1136994          1.94         None         None       -73.862434   \n284569           0.26         None         None       -73.948387   \n575314           1.00         None         None       -73.963600   \n1089752          1.59         None         None       -73.991241   \n422988           0.85         None         None       -73.952583   \n435274           1.18         None         None       -73.987427   \n\n         pickupLatitude  dropoffLongitude  ...  extra  mtaTax  \\\n1493983       40.763004        -73.969093  ...    0.0     0.5   \n1278663       40.752865        -73.907799  ...    0.0     0.5   \n625784        40.649597        -73.954956  ...    0.5     0.5   \n920350        40.676563        -73.945564  ...    0.5     0.5   \n1136994       40.730423        -73.892097  ...    0.5     0.5   \n284569        40.707794        -73.948555  ...    0.5     0.5   \n575314        40.710770        -73.951981  ...    1.0     0.5   \n1089752       40.692589        -73.988998  ...    0.0     0.5   \n422988        40.714092        -73.957870  ...    0.5     0.5   \n435274        40.691750        -73.977867  ...    0.0     0.5   \n\n        improvementSurcharge  tipAmount  tollsAmount  ehailFee  totalAmount  \\\n1493983                  0.3       0.00          0.0       NaN        16.30   \n1278663                  0.3       0.00          0.0       NaN         3.30   \n625784                   0.3       1.25          0.0       NaN         7.05   \n920350                   0.3       3.00          0.0       NaN        17.30   \n1136994                  0.3       0.00          0.0       NaN         9.80   \n284569                   0.3       0.00          0.0       NaN         4.80   \n575314                   0.3       1.00          0.0       NaN         8.30   \n1089752                  0.3       2.00          0.0       NaN        10.80   \n422988                   0.3       1.00          0.0       NaN         7.30   \n435274                   0.3       0.00          0.0       NaN         7.80   \n\n        tripType  puYear  puMonth  \n1493983      1.0    2015        1  \n1278663      1.0    2015        1  \n625784       1.0    2015        1  \n920350       1.0    2015        1  \n1136994      1.0    2015        1  \n284569       1.0    2015        1  \n575314       1.0    2015        1  \n1089752      1.0    2015        1  \n422988       1.0    2015        1  \n435274       1.0    2015        1  \n\n[10 rows x 25 columns]",
      "text/html": "<div>\n<style scoped>\n    .dataframe tbody tr th:only-of-type {\n        vertical-align: middle;\n    }\n\n    .dataframe tbody tr th {\n        vertical-align: top;\n    }\n\n    .dataframe thead th {\n        text-align: right;\n    }\n</style>\n<table border=\"1\" class=\"dataframe\">\n  <thead>\n    <tr style=\"text-align: right;\">\n      <th></th>\n      <th>vendorID</th>\n      <th>lpepPickupDatetime</th>\n      <th>lpepDropoffDatetime</th>\n      <th>passengerCount</th>\n      <th>tripDistance</th>\n      <th>puLocationId</th>\n      <th>doLocationId</th>\n      <th>pickupLongitude</th>\n      <th>pickupLatitude</th>\n      <th>dropoffLongitude</th>\n      <th>...</th>\n      <th>extra</th>\n      <th>mtaTax</th>\n      <th>improvementSurcharge</th>\n      <th>tipAmount</th>\n      <th>tollsAmount</th>\n      <th>ehailFee</th>\n      <th>totalAmount</th>\n      <th>tripType</th>\n      <th>puYear</th>\n      <th>puMonth</th>\n    </tr>\n  </thead>\n  <tbody>\n    <tr>\n      <th>1493983</th>\n      <td>2</td>\n      <td>2015-01-30 10:28:50</td>\n      <td>2015-01-30 10:51:08</td>\n      <td>1</td>\n      <td>2.79</td>\n      <td>None</td>\n      <td>None</td>\n      <td>-73.933907</td>\n      <td>40.763004</td>\n      <td>-73.969093</td>\n      <td>...</td>\n      <td>0.0</td>\n      <td>0.5</td>\n      <td>0.3</td>\n      <td>0.00</td>\n      <td>0.0</td>\n      <td>NaN</td>\n      <td>16.30</td>\n      <td>1.0</td>\n      <td>2015</td>\n      <td>1</td>\n    </tr>\n    <tr>\n      <th>1278663</th>\n      <td>2</td>\n      <td>2015-01-14 15:55:24</td>\n      <td>2015-01-14 15:55:41</td>\n      <td>1</td>\n      <td>0.00</td>\n      <td>None</td>\n      <td>None</td>\n      <td>-73.907806</td>\n      <td>40.752865</td>\n      <td>-73.907799</td>\n      <td>...</td>\n      <td>0.0</td>\n      <td>0.5</td>\n      <td>0.3</td>\n      <td>0.00</td>\n      <td>0.0</td>\n      <td>NaN</td>\n      <td>3.30</td>\n      <td>1.0</td>\n      <td>2015</td>\n      <td>1</td>\n    </tr>\n    <tr>\n      <th>625784</th>\n      <td>2</td>\n      <td>2015-01-03 22:36:34</td>\n      <td>2015-01-03 22:41:06</td>\n      <td>1</td>\n      <td>0.01</td>\n      <td>None</td>\n      <td>None</td>\n      <td>-73.962875</td>\n      <td>40.649597</td>\n      <td>-73.954956</td>\n      <td>...</td>\n      <td>0.5</td>\n      <td>0.5</td>\n      <td>0.3</td>\n      <td>1.25</td>\n      <td>0.0</td>\n      <td>NaN</td>\n      <td>7.05</td>\n      <td>1.0</td>\n      <td>2015</td>\n      <td>1</td>\n    </tr>\n    <tr>\n      <th>920350</th>\n      <td>1</td>\n      <td>2015-01-08 21:11:18</td>\n      <td>2015-01-08 21:27:40</td>\n      <td>1</td>\n      <td>3.20</td>\n      <td>None</td>\n      <td>None</td>\n      <td>-73.910858</td>\n      <td>40.676563</td>\n      <td>-73.945564</td>\n      <td>...</td>\n      <td>0.5</td>\n      <td>0.5</td>\n      <td>0.3</td>\n      <td>3.00</td>\n      <td>0.0</td>\n      <td>NaN</td>\n      <td>17.30</td>\n      <td>1.0</td>\n      <td>2015</td>\n      <td>1</td>\n    </tr>\n    <tr>\n      <th>1136994</th>\n      <td>2</td>\n      <td>2015-01-18 00:04:21</td>\n      <td>2015-01-18 00:12:37</td>\n      <td>1</td>\n      <td>1.94</td>\n      <td>None</td>\n      <td>None</td>\n      <td>-73.862434</td>\n      <td>40.730423</td>\n      <td>-73.892097</td>\n      <td>...</td>\n      <td>0.5</td>\n      <td>0.5</td>\n      <td>0.3</td>\n      <td>0.00</td>\n      <td>0.0</td>\n      <td>NaN</td>\n      <td>9.80</td>\n      <td>1.0</td>\n      <td>2015</td>\n      <td>1</td>\n    </tr>\n    <tr>\n      <th>284569</th>\n      <td>2</td>\n      <td>2015-01-02 22:37:44</td>\n      <td>2015-01-02 22:39:32</td>\n      <td>1</td>\n      <td>0.26</td>\n      <td>None</td>\n      <td>None</td>\n      <td>-73.948387</td>\n      <td>40.707794</td>\n      <td>-73.948555</td>\n      <td>...</td>\n      <td>0.5</td>\n      <td>0.5</td>\n      <td>0.3</td>\n      <td>0.00</td>\n      <td>0.0</td>\n      <td>NaN</td>\n      <td>4.80</td>\n      <td>1.0</td>\n      <td>2015</td>\n      <td>1</td>\n    </tr>\n    <tr>\n      <th>575314</th>\n      <td>1</td>\n      <td>2015-01-27 18:07:36</td>\n      <td>2015-01-27 18:13:16</td>\n      <td>1</td>\n      <td>1.00</td>\n      <td>None</td>\n      <td>None</td>\n      <td>-73.963600</td>\n      <td>40.710770</td>\n      <td>-73.951981</td>\n      <td>...</td>\n      <td>1.0</td>\n      <td>0.5</td>\n      <td>0.3</td>\n      <td>1.00</td>\n      <td>0.0</td>\n      <td>NaN</td>\n      <td>8.30</td>\n      <td>1.0</td>\n      <td>2015</td>\n      <td>1</td>\n    </tr>\n    <tr>\n      <th>1089752</th>\n      <td>2</td>\n      <td>2015-01-03 14:21:00</td>\n      <td>2015-01-03 14:30:02</td>\n      <td>1</td>\n      <td>1.59</td>\n      <td>None</td>\n      <td>None</td>\n      <td>-73.991241</td>\n      <td>40.692589</td>\n      <td>-73.988998</td>\n      <td>...</td>\n      <td>0.0</td>\n      <td>0.5</td>\n      <td>0.3</td>\n      <td>2.00</td>\n      <td>0.0</td>\n      <td>NaN</td>\n      <td>10.80</td>\n      <td>1.0</td>\n      <td>2015</td>\n      <td>1</td>\n    </tr>\n    <tr>\n      <th>422988</th>\n      <td>2</td>\n      <td>2015-01-20 01:13:55</td>\n      <td>2015-01-20 01:17:40</td>\n      <td>1</td>\n      <td>0.85</td>\n      <td>None</td>\n      <td>None</td>\n      <td>-73.952583</td>\n      <td>40.714092</td>\n      <td>-73.957870</td>\n      <td>...</td>\n      <td>0.5</td>\n      <td>0.5</td>\n      <td>0.3</td>\n      <td>1.00</td>\n      <td>0.0</td>\n      <td>NaN</td>\n      <td>7.30</td>\n      <td>1.0</td>\n      <td>2015</td>\n      <td>1</td>\n    </tr>\n    <tr>\n      <th>435274</th>\n      <td>2</td>\n      <td>2015-01-20 10:44:09</td>\n      <td>2015-01-20 10:52:41</td>\n      <td>1</td>\n      <td>1.18</td>\n      <td>None</td>\n      <td>None</td>\n      <td>-73.987427</td>\n      <td>40.691750</td>\n      <td>-73.977867</td>\n      <td>...</td>\n      <td>0.0</td>\n      <td>0.5</td>\n      <td>0.3</td>\n      <td>0.00</td>\n      <td>0.0</td>\n      <td>NaN</td>\n      <td>7.80</td>\n      <td>1.0</td>\n      <td>2015</td>\n      <td>1</td>\n    </tr>\n  </tbody>\n</table>\n<p>10 rows × 25 columns</p>\n</div>"
     },
     "metadata": {},
     "execution_count": 5
    }
   ],
   "source": [
    "green_taxi_df = pd.DataFrame([])\n",
    "start = datetime.strptime(\"1/1/2015\",\"%m/%d/%Y\")\n",
    "end = datetime.strptime(\"1/31/2015\",\"%m/%d/%Y\")\n",
    "\n",
    "for sample_month in range(12):\n",
    "    temp_df_green = NycTlcGreen(start + relativedelta(months=sample_month), end + relativedelta(months=sample_month)) \\\n",
    "        .to_pandas_dataframe()\n",
    "    green_taxi_df = green_taxi_df.append(temp_df_green.sample(2000))\n",
    "\n",
    "green_taxi_df.head(10)"
   ]
  },
  {
   "cell_type": "code",
   "execution_count": 7,
   "metadata": {},
   "outputs": [
    {
     "output_type": "error",
     "ename": "KeyError",
     "evalue": "&quot;None of [Index([&#39;lpepPickupDatetime&#39;], dtype=&#39;object&#39;)] are in the [columns]&quot;",
     "traceback": [
      "\u001b[1;31m---------------------------------------------------------------------------\u001b[0m",
      "\u001b[1;31mKeyError\u001b[0m                                  Traceback (most recent call last)",
      "\u001b[1;32m&lt;ipython-input-7-cc4d711290a2&gt;\u001b[0m in \u001b[0;36m&lt;module&gt;\u001b[1;34m\u001b[0m\n\u001b[0;32m      8\u001b[0m     \u001b[1;32mreturn\u001b[0m \u001b[0mpd\u001b[0m\u001b[1;33m.\u001b[0m\u001b[0mSeries\u001b[0m\u001b[1;33m(\u001b[0m\u001b[1;33m(\u001b[0m\u001b[0mmonth_num\u001b[0m\u001b[1;33m,\u001b[0m \u001b[0mday_of_month\u001b[0m\u001b[1;33m,\u001b[0m \u001b[0mday_of_week\u001b[0m\u001b[1;33m,\u001b[0m \u001b[0mhour_of_day\u001b[0m\u001b[1;33m)\u001b[0m\u001b[1;33m)\u001b[0m\u001b[1;33m\u001b[0m\u001b[1;33m\u001b[0m\u001b[0m\n\u001b[0;32m      9\u001b[0m \u001b[1;33m\u001b[0m\u001b[0m\n\u001b[1;32m---&gt; 10\u001b[1;33m \u001b[0mgreen_taxi_df\u001b[0m\u001b[1;33m[\u001b[0m\u001b[1;33m[\u001b[0m\u001b[1;34m&quot;month_num&quot;\u001b[0m\u001b[1;33m,\u001b[0m \u001b[1;34m&quot;day_of_month&quot;\u001b[0m\u001b[1;33m,\u001b[0m\u001b[1;34m&quot;day_of_week&quot;\u001b[0m\u001b[1;33m,\u001b[0m \u001b[1;34m&quot;hour_of_day&quot;\u001b[0m\u001b[1;33m]\u001b[0m\u001b[1;33m]\u001b[0m \u001b[1;33m=\u001b[0m \u001b[0mgreen_taxi_df\u001b[0m\u001b[1;33m[\u001b[0m\u001b[1;33m[\u001b[0m\u001b[1;34m&quot;lpepPickupDatetime&quot;\u001b[0m\u001b[1;33m]\u001b[0m\u001b[1;33m]\u001b[0m\u001b[1;33m.\u001b[0m\u001b[0mapply\u001b[0m\u001b[1;33m(\u001b[0m\u001b[0mbuild_time_features\u001b[0m\u001b[1;33m,\u001b[0m \u001b[0maxis\u001b[0m\u001b[1;33m=\u001b[0m\u001b[1;36m1\u001b[0m\u001b[1;33m)\u001b[0m\u001b[1;33m\u001b[0m\u001b[1;33m\u001b[0m\u001b[0m\n\u001b[0m\u001b[0;32m     11\u001b[0m \u001b[0mgreen_taxi_df\u001b[0m\u001b[1;33m.\u001b[0m\u001b[0mhead\u001b[0m\u001b[1;33m(\u001b[0m\u001b[1;36m10\u001b[0m\u001b[1;33m)\u001b[0m\u001b[1;33m\u001b[0m\u001b[1;33m\u001b[0m\u001b[0m\n",
      "\u001b[1;32m~\\AppData\\Local\\Programs\\Python\\Python38\\lib\\site-packages\\pandas\\core\\frame.py\u001b[0m in \u001b[0;36m__getitem__\u001b[1;34m(self, key)\u001b[0m\n\u001b[0;32m   2804\u001b[0m             \u001b[1;32mif\u001b[0m \u001b[0mis_iterator\u001b[0m\u001b[1;33m(\u001b[0m\u001b[0mkey\u001b[0m\u001b[1;33m)\u001b[0m\u001b[1;33m:\u001b[0m\u001b[1;33m\u001b[0m\u001b[1;33m\u001b[0m\u001b[0m\n\u001b[0;32m   2805\u001b[0m                 \u001b[0mkey\u001b[0m \u001b[1;33m=\u001b[0m \u001b[0mlist\u001b[0m\u001b[1;33m(\u001b[0m\u001b[0mkey\u001b[0m\u001b[1;33m)\u001b[0m\u001b[1;33m\u001b[0m\u001b[1;33m\u001b[0m\u001b[0m\n\u001b[1;32m-&gt; 2806\u001b[1;33m             \u001b[0mindexer\u001b[0m \u001b[1;33m=\u001b[0m \u001b[0mself\u001b[0m\u001b[1;33m.\u001b[0m\u001b[0mloc\u001b[0m\u001b[1;33m.\u001b[0m\u001b[0m_get_listlike_indexer\u001b[0m\u001b[1;33m(\u001b[0m\u001b[0mkey\u001b[0m\u001b[1;33m,\u001b[0m \u001b[0maxis\u001b[0m\u001b[1;33m=\u001b[0m\u001b[1;36m1\u001b[0m\u001b[1;33m,\u001b[0m \u001b[0mraise_missing\u001b[0m\u001b[1;33m=\u001b[0m\u001b[1;32mTrue\u001b[0m\u001b[1;33m)\u001b[0m\u001b[1;33m[\u001b[0m\u001b[1;36m1\u001b[0m\u001b[1;33m]\u001b[0m\u001b[1;33m\u001b[0m\u001b[1;33m\u001b[0m\u001b[0m\n\u001b[0m\u001b[0;32m   2807\u001b[0m \u001b[1;33m\u001b[0m\u001b[0m\n\u001b[0;32m   2808\u001b[0m         \u001b[1;31m# take() does not accept boolean indexers\u001b[0m\u001b[1;33m\u001b[0m\u001b[1;33m\u001b[0m\u001b[1;33m\u001b[0m\u001b[0m\n",
      "\u001b[1;32m~\\AppData\\Local\\Programs\\Python\\Python38\\lib\\site-packages\\pandas\\core\\indexing.py\u001b[0m in \u001b[0;36m_get_listlike_indexer\u001b[1;34m(self, key, axis, raise_missing)\u001b[0m\n\u001b[0;32m   1548\u001b[0m             \u001b[0mkeyarr\u001b[0m\u001b[1;33m,\u001b[0m \u001b[0mindexer\u001b[0m\u001b[1;33m,\u001b[0m \u001b[0mnew_indexer\u001b[0m \u001b[1;33m=\u001b[0m \u001b[0max\u001b[0m\u001b[1;33m.\u001b[0m\u001b[0m_reindex_non_unique\u001b[0m\u001b[1;33m(\u001b[0m\u001b[0mkeyarr\u001b[0m\u001b[1;33m)\u001b[0m\u001b[1;33m\u001b[0m\u001b[1;33m\u001b[0m\u001b[0m\n\u001b[0;32m   1549\u001b[0m \u001b[1;33m\u001b[0m\u001b[0m\n\u001b[1;32m-&gt; 1550\u001b[1;33m         self._validate_read_indexer(\n\u001b[0m\u001b[0;32m   1551\u001b[0m             \u001b[0mkeyarr\u001b[0m\u001b[1;33m,\u001b[0m \u001b[0mindexer\u001b[0m\u001b[1;33m,\u001b[0m \u001b[0mo\u001b[0m\u001b[1;33m.\u001b[0m\u001b[0m_get_axis_number\u001b[0m\u001b[1;33m(\u001b[0m\u001b[0maxis\u001b[0m\u001b[1;33m)\u001b[0m\u001b[1;33m,\u001b[0m \u001b[0mraise_missing\u001b[0m\u001b[1;33m=\u001b[0m\u001b[0mraise_missing\u001b[0m\u001b[1;33m\u001b[0m\u001b[1;33m\u001b[0m\u001b[0m\n\u001b[0;32m   1552\u001b[0m         )\n",
      "\u001b[1;32m~\\AppData\\Local\\Programs\\Python\\Python38\\lib\\site-packages\\pandas\\core\\indexing.py\u001b[0m in \u001b[0;36m_validate_read_indexer\u001b[1;34m(self, key, indexer, axis, raise_missing)\u001b[0m\n\u001b[0;32m   1636\u001b[0m             \u001b[1;32mif\u001b[0m \u001b[0mmissing\u001b[0m \u001b[1;33m==\u001b[0m \u001b[0mlen\u001b[0m\u001b[1;33m(\u001b[0m\u001b[0mindexer\u001b[0m\u001b[1;33m)\u001b[0m\u001b[1;33m:\u001b[0m\u001b[1;33m\u001b[0m\u001b[1;33m\u001b[0m\u001b[0m\n\u001b[0;32m   1637\u001b[0m                 \u001b[0maxis_name\u001b[0m \u001b[1;33m=\u001b[0m \u001b[0mself\u001b[0m\u001b[1;33m.\u001b[0m\u001b[0mobj\u001b[0m\u001b[1;33m.\u001b[0m\u001b[0m_get_axis_name\u001b[0m\u001b[1;33m(\u001b[0m\u001b[0maxis\u001b[0m\u001b[1;33m)\u001b[0m\u001b[1;33m\u001b[0m\u001b[1;33m\u001b[0m\u001b[0m\n\u001b[1;32m-&gt; 1638\u001b[1;33m                 \u001b[1;32mraise\u001b[0m \u001b[0mKeyError\u001b[0m\u001b[1;33m(\u001b[0m\u001b[1;34mf&quot;None of [{key}] are in the [{axis_name}]&quot;\u001b[0m\u001b[1;33m)\u001b[0m\u001b[1;33m\u001b[0m\u001b[1;33m\u001b[0m\u001b[0m\n\u001b[0m\u001b[0;32m   1639\u001b[0m \u001b[1;33m\u001b[0m\u001b[0m\n\u001b[0;32m   1640\u001b[0m             \u001b[1;31m# We (temporarily) allow for some missing keys with .loc, except in\u001b[0m\u001b[1;33m\u001b[0m\u001b[1;33m\u001b[0m\u001b[1;33m\u001b[0m\u001b[0m\n",
      "\u001b[1;31mKeyError\u001b[0m: &quot;None of [Index([&#39;lpepPickupDatetime&#39;], dtype=&#39;object&#39;)] are in the [columns]&quot;"
     ]
    }
   ],
   "source": [
    "def build_time_features(vector):\n",
    "    pickup_datetime = vector[0]\n",
    "    month_num = pickup_datetime.month\n",
    "    day_of_month = pickup_datetime.day\n",
    "    day_of_week = pickup_datetime.weekday()\n",
    "    hour_of_day = pickup_datetime.hour\n",
    "\n",
    "    return pd.Series((month_num, day_of_month, day_of_week, hour_of_day))\n",
    "\n",
    "green_taxi_df[[\"month_num\", \"day_of_month\",\"day_of_week\", \"hour_of_day\"]] = green_taxi_df[[\"lpepPickupDatetime\"]].apply(build_time_features, axis=1)\n",
    "green_taxi_df.head(10)"
   ]
  },
  {
   "cell_type": "code",
   "execution_count": 6,
   "metadata": {},
   "outputs": [
    {
     "output_type": "execute_result",
     "data": {
      "text/plain": "         vendorID  passengerCount  tripDistance  pickupLongitude  \\\n1493983         2               1          2.79       -73.933907   \n1278663         2               1          0.00       -73.907806   \n625784          2               1          0.01       -73.962875   \n920350          1               1          3.20       -73.910858   \n1136994         2               1          1.94       -73.862434   \n\n         pickupLatitude  dropoffLongitude  dropoffLatitude  totalAmount  \\\n1493983       40.763004        -73.969093        40.763474        16.30   \n1278663       40.752865        -73.907799        40.752869         3.30   \n625784        40.649597        -73.954956        40.647148         7.05   \n920350        40.676563        -73.945564        40.705650        17.30   \n1136994       40.730423        -73.892097        40.727894         9.80   \n\n         puYear  puMonth  \n1493983    2015        1  \n1278663    2015        1  \n625784     2015        1  \n920350     2015        1  \n1136994    2015        1  ",
      "text/html": "<div>\n<style scoped>\n    .dataframe tbody tr th:only-of-type {\n        vertical-align: middle;\n    }\n\n    .dataframe tbody tr th {\n        vertical-align: top;\n    }\n\n    .dataframe thead th {\n        text-align: right;\n    }\n</style>\n<table border=\"1\" class=\"dataframe\">\n  <thead>\n    <tr style=\"text-align: right;\">\n      <th></th>\n      <th>vendorID</th>\n      <th>passengerCount</th>\n      <th>tripDistance</th>\n      <th>pickupLongitude</th>\n      <th>pickupLatitude</th>\n      <th>dropoffLongitude</th>\n      <th>dropoffLatitude</th>\n      <th>totalAmount</th>\n      <th>puYear</th>\n      <th>puMonth</th>\n    </tr>\n  </thead>\n  <tbody>\n    <tr>\n      <th>1493983</th>\n      <td>2</td>\n      <td>1</td>\n      <td>2.79</td>\n      <td>-73.933907</td>\n      <td>40.763004</td>\n      <td>-73.969093</td>\n      <td>40.763474</td>\n      <td>16.30</td>\n      <td>2015</td>\n      <td>1</td>\n    </tr>\n    <tr>\n      <th>1278663</th>\n      <td>2</td>\n      <td>1</td>\n      <td>0.00</td>\n      <td>-73.907806</td>\n      <td>40.752865</td>\n      <td>-73.907799</td>\n      <td>40.752869</td>\n      <td>3.30</td>\n      <td>2015</td>\n      <td>1</td>\n    </tr>\n    <tr>\n      <th>625784</th>\n      <td>2</td>\n      <td>1</td>\n      <td>0.01</td>\n      <td>-73.962875</td>\n      <td>40.649597</td>\n      <td>-73.954956</td>\n      <td>40.647148</td>\n      <td>7.05</td>\n      <td>2015</td>\n      <td>1</td>\n    </tr>\n    <tr>\n      <th>920350</th>\n      <td>1</td>\n      <td>1</td>\n      <td>3.20</td>\n      <td>-73.910858</td>\n      <td>40.676563</td>\n      <td>-73.945564</td>\n      <td>40.705650</td>\n      <td>17.30</td>\n      <td>2015</td>\n      <td>1</td>\n    </tr>\n    <tr>\n      <th>1136994</th>\n      <td>2</td>\n      <td>1</td>\n      <td>1.94</td>\n      <td>-73.862434</td>\n      <td>40.730423</td>\n      <td>-73.892097</td>\n      <td>40.727894</td>\n      <td>9.80</td>\n      <td>2015</td>\n      <td>1</td>\n    </tr>\n  </tbody>\n</table>\n</div>"
     },
     "metadata": {},
     "execution_count": 6
    }
   ],
   "source": [
    "columns_to_remove = [\"lpepPickupDatetime\", \"lpepDropoffDatetime\", \"puLocationId\", \"doLocationId\", \"extra\", \"mtaTax\",\n",
    "                     \"improvementSurcharge\", \"tollsAmount\", \"ehailFee\", \"tripType\", \"rateCodeID\",\n",
    "                     \"storeAndFwdFlag\", \"paymentType\", \"fareAmount\", \"tipAmount\"\n",
    "                    ]\n",
    "for col in columns_to_remove:\n",
    "    green_taxi_df.pop(col)\n",
    "\n",
    "green_taxi_df.head(5)"
   ]
  },
  {
   "cell_type": "code",
   "execution_count": null,
   "metadata": {},
   "outputs": [],
   "source": [
    "green_taxi_df.describe()"
   ]
  },
  {
   "cell_type": "code",
   "execution_count": null,
   "metadata": {},
   "outputs": [],
   "source": [
    "final_df = green_taxi_df.query(\"pickupLatitude>=40.53 and pickupLatitude<=40.88\")\n",
    "final_df = final_df.query(\"pickupLongitude>=-74.09 and pickupLongitude<=-73.72\")\n",
    "final_df = final_df.query(\"tripDistance>=0.25 and tripDistance<31\")\n",
    "final_df = final_df.query(\"passengerCount>0 and totalAmount>0\")\n",
    "\n",
    "columns_to_remove_for_training = [\"pickupLongitude\", \"pickupLatitude\", \"dropoffLongitude\", \"dropoffLatitude\"]\n",
    "for col in columns_to_remove_for_training:\n",
    "    final_df.pop(col)"
   ]
  },
  {
   "cell_type": "code",
   "execution_count": null,
   "metadata": {},
   "outputs": [],
   "source": [
    "from azureml.core.workspace import Workspace\n",
    "ws = Workspace.from_config()"
   ]
  },
  {
   "cell_type": "code",
   "execution_count": null,
   "metadata": {},
   "outputs": [],
   "source": [
    "from sklearn.model_selection import train_test_split\n",
    "\n",
    "x_train, x_test = train_test_split(final_df, test_size=0.2, random_state=223)"
   ]
  }
 ]
}