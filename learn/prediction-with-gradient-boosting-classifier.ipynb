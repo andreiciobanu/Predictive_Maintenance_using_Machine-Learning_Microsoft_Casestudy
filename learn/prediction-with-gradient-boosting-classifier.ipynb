{
 "cells": [
  {
   "cell_type": "markdown",
   "metadata": {
    "_cell_guid": "25741996-6f3b-4b9d-9028-668dde4abb70",
    "_uuid": "8d0336a19fed232f209f1607b1be60d53c8d2699"
   },
   "source": [
    "#**Data preparation: **\n",
    "1. Removed columns \"Name\", \"Age\", \"SibSp\", \"Ticket\", \"Cabin\",  \"Parch\", and \"Embarked\".\n",
    "2. Convert objects to numbers with pandas.get_dummies.\n",
    "3. Filled nulls with a value of 0.0.\n",
    "4. Transformed data with MinMaxScaler() method.\n",
    "5. Randomly splited training set into train and validation subsets.\n",
    "\n",
    "#**Training Gradient Boosting classifier:**\n",
    "1. Computed the accuracy scores on train and validation sets when training with different learning rates. When learning rate was 0.5, the accuracy scores on training and validation subsets were 0.829 and 0.830, respectively.\n",
    "2. Trained Gradient Boosting classifier on training subset with parameters of criterion=\"mse\", n_estimators=20, learning_rate = 0.5, max_features=2, max_depth = 2, random_state = 0.  The average precision, recall, and  f1-scores on validation subsets were 0.83, 0.83, and 0.82, respectively. The area under ROC (AUC) was 0.88."
   ]
  },
  {
   "cell_type": "code",
   "execution_count": 46,
   "metadata": {},
   "outputs": [],
   "source": [
    "#Gradient boosting is a machine learning technique for regression and classification problems, which produces a prediction model in the form of an ensemble of weak prediction models, typically decision trees. It builds the model in a stage-wise fashion like other boosting methods do, and it generalizes them by allowing optimization of an arbitrary differentiable loss function.\n",
    "#Decision tree learning is one of the predictive modelling approaches used in statistics, data mining and machine learning. It uses a decision tree (as a predictive model) to go from observations about an item (represented in the branches) to conclusions about the item's target value (represented in the leaves). Tree models where the target variable can take a discrete set of values are called classification trees; in these tree structures, leaves represent class labels and branches represent conjunctions of features that lead to those class labels. Decision trees where the target variable can take continuous values (typically real numbers) are called regression trees. Decision trees are among the most popular machine learning algorithms given their intelligibility and simplicity.[1][2]"
   ]
  },
  {
   "cell_type": "code",
   "execution_count": 47,
   "metadata": {
    "_cell_guid": "573fee8c-94f8-446f-83e4-3c8580449e52",
    "_uuid": "465c72ba9a38646a1bfd615e0f734b1f5b25e163",
    "collapsed": true
   },
   "outputs": [],
   "source": [
    "%matplotlib notebook\n",
    "import numpy as np\n",
    "import pandas as pd\n",
    "import matplotlib.pyplot as plt"
   ]
  },
  {
   "cell_type": "code",
   "execution_count": 48,
   "metadata": {
    "_cell_guid": "101aa076-6298-40c2-8acd-2f574ae84a92",
    "_uuid": "bc076cadaaaf7574c41f7f73a54b506f7b616b79",
    "collapsed": true
   },
   "outputs": [],
   "source": [
    "# load data\n",
    "train = pd.read_csv(\"data/Gradient/train.csv\")\n",
    "test = pd.read_csv(\"data/Gradient/test.csv\")"
   ]
  },
  {
   "cell_type": "code",
   "execution_count": 49,
   "metadata": {
    "_cell_guid": "d2118b99-bee4-49b0-b9b8-20ccc88440e9",
    "_uuid": "0bdbc404bbc6f234e6b919da29c51c659f6e108d",
    "tags": []
   },
   "outputs": [
    {
     "output_type": "stream",
     "name": "stdout",
     "text": "<class 'pandas.core.frame.DataFrame'>\nRangeIndex: 891 entries, 0 to 890\nData columns (total 12 columns):\n #   Column       Non-Null Count  Dtype  \n---  ------       --------------  -----  \n 0   PassengerId  891 non-null    int64  \n 1   Survived     891 non-null    int64  \n 2   Pclass       891 non-null    int64  \n 3   Name         891 non-null    object \n 4   Sex          891 non-null    object \n 5   Age          714 non-null    float64\n 6   SibSp        891 non-null    int64  \n 7   Parch        891 non-null    int64  \n 8   Ticket       891 non-null    object \n 9   Fare         891 non-null    float64\n 10  Cabin        204 non-null    object \n 11  Embarked     889 non-null    object \ndtypes: float64(2), int64(5), object(5)\nmemory usage: 83.7+ KB\n<class 'pandas.core.frame.DataFrame'>\nRangeIndex: 418 entries, 0 to 417\nData columns (total 11 columns):\n #   Column       Non-Null Count  Dtype  \n---  ------       --------------  -----  \n 0   PassengerId  418 non-null    int64  \n 1   Pclass       418 non-null    int64  \n 2   Name         418 non-null    object \n 3   Sex          418 non-null    object \n 4   Age          332 non-null    float64\n 5   SibSp        418 non-null    int64  \n 6   Parch        418 non-null    int64  \n 7   Ticket       418 non-null    object \n 8   Fare         417 non-null    float64\n 9   Cabin        91 non-null     object \n 10  Embarked     418 non-null    object \ndtypes: float64(2), int64(4), object(5)\nmemory usage: 36.0+ KB\n"
    },
    {
     "output_type": "execute_result",
     "data": {
      "text/plain": "(None, None)"
     },
     "metadata": {},
     "execution_count": 49
    }
   ],
   "source": [
    "train.info(), test.info()"
   ]
  },
  {
   "cell_type": "code",
   "execution_count": 50,
   "metadata": {
    "_cell_guid": "c1c49f9f-d8a9-48b4-a9ec-af94666ae66e",
    "_uuid": "2c4a8a2cfbec56d89dfd16ef455ec1ac7c27db8c",
    "collapsed": true
   },
   "outputs": [],
   "source": [
    "# set \"PassengerId\" variable as index\n",
    "train.set_index(\"PassengerId\", inplace=True)\n",
    "test.set_index(\"PassengerId\", inplace=True)"
   ]
  },
  {
   "cell_type": "code",
   "execution_count": 51,
   "metadata": {
    "_cell_guid": "433dfdfd-69c6-4356-9944-58cb4eb7f871",
    "_uuid": "e3e129ad55d8d366910b0822dcae221057bf46d5",
    "collapsed": true
   },
   "outputs": [],
   "source": [
    "# generate training target set (y_train)\n",
    "y_train = train[\"Survived\"]"
   ]
  },
  {
   "cell_type": "code",
   "execution_count": 52,
   "metadata": {
    "_cell_guid": "f66a4d77-30e8-4b56-9750-81ff73e383d8",
    "_uuid": "e7b1c4edc8517c9f3c6eb372cf46e5c1ea375730",
    "collapsed": true
   },
   "outputs": [],
   "source": [
    "# delete column \"Survived\" from train set\n",
    "train.drop(labels=\"Survived\", axis=1, inplace=True)"
   ]
  },
  {
   "cell_type": "code",
   "execution_count": 53,
   "metadata": {
    "_cell_guid": "54ae13aa-e0c4-43e7-866a-359c125ce953",
    "_uuid": "176ecbc24e803ebe424ee0d6d17210002251f746"
   },
   "outputs": [
    {
     "output_type": "execute_result",
     "data": {
      "text/plain": "((891, 10), (418, 10))"
     },
     "metadata": {},
     "execution_count": 53
    }
   ],
   "source": [
    "# shapes of train and test sets\n",
    "train.shape, test.shape"
   ]
  },
  {
   "cell_type": "code",
   "execution_count": 54,
   "metadata": {
    "_cell_guid": "93e03c18-3609-49b6-83dc-76baeaec64d3",
    "_uuid": "7504fc68a599b16feca19c747838f38cd743f765",
    "collapsed": true
   },
   "outputs": [],
   "source": [
    "# join train and test sets to form a new train_test set\n",
    "train_test =  train.append(test)"
   ]
  },
  {
   "cell_type": "code",
   "execution_count": 55,
   "metadata": {
    "_cell_guid": "aa2c195e-111e-4519-aac9-6fc59f88b62d",
    "_uuid": "258a023f94c2d30cbfb1fb81aaceb273561e107d",
    "collapsed": true
   },
   "outputs": [],
   "source": [
    "# delete columns that are not used as features for training and prediction\n",
    "columns_to_drop = [\"Name\", \"Age\", \"SibSp\", \"Ticket\", \"Cabin\", \"Parch\", \"Embarked\"]\n",
    "train_test.drop(labels=columns_to_drop, axis=1, inplace=True)"
   ]
  },
  {
   "cell_type": "code",
   "execution_count": 56,
   "metadata": {
    "_cell_guid": "755b7956-e2ef-4253-af8a-e7fafed926ac",
    "_uuid": "c79230f80f6894022edab0d3bc2ade1d60c1bb47",
    "collapsed": true
   },
   "outputs": [
    {
     "output_type": "execute_result",
     "data": {
      "text/plain": "             Pclass      Fare  Sex_female  Sex_male\nPassengerId                                        \n1                 3    7.2500           0         1\n2                 1   71.2833           1         0\n3                 3    7.9250           1         0\n4                 1   53.1000           1         0\n5                 3    8.0500           0         1\n...             ...       ...         ...       ...\n1305              3    8.0500           0         1\n1306              1  108.9000           1         0\n1307              3    7.2500           0         1\n1308              3    8.0500           0         1\n1309              3   22.3583           0         1\n\n[1309 rows x 4 columns]",
      "text/html": "<div>\n<style scoped>\n    .dataframe tbody tr th:only-of-type {\n        vertical-align: middle;\n    }\n\n    .dataframe tbody tr th {\n        vertical-align: top;\n    }\n\n    .dataframe thead th {\n        text-align: right;\n    }\n</style>\n<table border=\"1\" class=\"dataframe\">\n  <thead>\n    <tr style=\"text-align: right;\">\n      <th></th>\n      <th>Pclass</th>\n      <th>Fare</th>\n      <th>Sex_female</th>\n      <th>Sex_male</th>\n    </tr>\n    <tr>\n      <th>PassengerId</th>\n      <th></th>\n      <th></th>\n      <th></th>\n      <th></th>\n    </tr>\n  </thead>\n  <tbody>\n    <tr>\n      <th>1</th>\n      <td>3</td>\n      <td>7.2500</td>\n      <td>0</td>\n      <td>1</td>\n    </tr>\n    <tr>\n      <th>2</th>\n      <td>1</td>\n      <td>71.2833</td>\n      <td>1</td>\n      <td>0</td>\n    </tr>\n    <tr>\n      <th>3</th>\n      <td>3</td>\n      <td>7.9250</td>\n      <td>1</td>\n      <td>0</td>\n    </tr>\n    <tr>\n      <th>4</th>\n      <td>1</td>\n      <td>53.1000</td>\n      <td>1</td>\n      <td>0</td>\n    </tr>\n    <tr>\n      <th>5</th>\n      <td>3</td>\n      <td>8.0500</td>\n      <td>0</td>\n      <td>1</td>\n    </tr>\n    <tr>\n      <th>...</th>\n      <td>...</td>\n      <td>...</td>\n      <td>...</td>\n      <td>...</td>\n    </tr>\n    <tr>\n      <th>1305</th>\n      <td>3</td>\n      <td>8.0500</td>\n      <td>0</td>\n      <td>1</td>\n    </tr>\n    <tr>\n      <th>1306</th>\n      <td>1</td>\n      <td>108.9000</td>\n      <td>1</td>\n      <td>0</td>\n    </tr>\n    <tr>\n      <th>1307</th>\n      <td>3</td>\n      <td>7.2500</td>\n      <td>0</td>\n      <td>1</td>\n    </tr>\n    <tr>\n      <th>1308</th>\n      <td>3</td>\n      <td>8.0500</td>\n      <td>0</td>\n      <td>1</td>\n    </tr>\n    <tr>\n      <th>1309</th>\n      <td>3</td>\n      <td>22.3583</td>\n      <td>0</td>\n      <td>1</td>\n    </tr>\n  </tbody>\n</table>\n<p>1309 rows × 4 columns</p>\n</div>"
     },
     "metadata": {},
     "execution_count": 56
    }
   ],
   "source": [
    "# convert objects to numbers by pandas.get_dummies\n",
    "train_test_dummies = pd.get_dummies(train_test, columns=[\"Sex\"])\n",
    "train_test_dummies"
   ]
  },
  {
   "cell_type": "code",
   "execution_count": 57,
   "metadata": {
    "_cell_guid": "58b4bb8d-1e27-40ce-a5e8-fe697575e5a9",
    "_uuid": "fc0c258bbe921b0466405b3d71a7e7a4b7625a3b"
   },
   "outputs": [
    {
     "output_type": "execute_result",
     "data": {
      "text/plain": "(1309, 4)"
     },
     "metadata": {},
     "execution_count": 57
    }
   ],
   "source": [
    "# check the dimension\n",
    "train_test_dummies.shape"
   ]
  },
  {
   "cell_type": "code",
   "execution_count": 58,
   "metadata": {
    "_cell_guid": "8387bacc-5ef3-4098-932a-a1275c732548",
    "_uuid": "0028cf64a05fec2eecd4be89d26d7087fc26d14a",
    "collapsed": true
   },
   "outputs": [
    {
     "output_type": "execute_result",
     "data": {
      "text/plain": "             Pclass      Fare  Sex_female  Sex_male\nPassengerId                                        \n1                 3    7.2500           0         1\n2                 1   71.2833           1         0\n3                 3    7.9250           1         0\n4                 1   53.1000           1         0\n5                 3    8.0500           0         1\n...             ...       ...         ...       ...\n1305              3    8.0500           0         1\n1306              1  108.9000           1         0\n1307              3    7.2500           0         1\n1308              3    8.0500           0         1\n1309              3   22.3583           0         1\n\n[1309 rows x 4 columns]",
      "text/html": "<div>\n<style scoped>\n    .dataframe tbody tr th:only-of-type {\n        vertical-align: middle;\n    }\n\n    .dataframe tbody tr th {\n        vertical-align: top;\n    }\n\n    .dataframe thead th {\n        text-align: right;\n    }\n</style>\n<table border=\"1\" class=\"dataframe\">\n  <thead>\n    <tr style=\"text-align: right;\">\n      <th></th>\n      <th>Pclass</th>\n      <th>Fare</th>\n      <th>Sex_female</th>\n      <th>Sex_male</th>\n    </tr>\n    <tr>\n      <th>PassengerId</th>\n      <th></th>\n      <th></th>\n      <th></th>\n      <th></th>\n    </tr>\n  </thead>\n  <tbody>\n    <tr>\n      <th>1</th>\n      <td>3</td>\n      <td>7.2500</td>\n      <td>0</td>\n      <td>1</td>\n    </tr>\n    <tr>\n      <th>2</th>\n      <td>1</td>\n      <td>71.2833</td>\n      <td>1</td>\n      <td>0</td>\n    </tr>\n    <tr>\n      <th>3</th>\n      <td>3</td>\n      <td>7.9250</td>\n      <td>1</td>\n      <td>0</td>\n    </tr>\n    <tr>\n      <th>4</th>\n      <td>1</td>\n      <td>53.1000</td>\n      <td>1</td>\n      <td>0</td>\n    </tr>\n    <tr>\n      <th>5</th>\n      <td>3</td>\n      <td>8.0500</td>\n      <td>0</td>\n      <td>1</td>\n    </tr>\n    <tr>\n      <th>...</th>\n      <td>...</td>\n      <td>...</td>\n      <td>...</td>\n      <td>...</td>\n    </tr>\n    <tr>\n      <th>1305</th>\n      <td>3</td>\n      <td>8.0500</td>\n      <td>0</td>\n      <td>1</td>\n    </tr>\n    <tr>\n      <th>1306</th>\n      <td>1</td>\n      <td>108.9000</td>\n      <td>1</td>\n      <td>0</td>\n    </tr>\n    <tr>\n      <th>1307</th>\n      <td>3</td>\n      <td>7.2500</td>\n      <td>0</td>\n      <td>1</td>\n    </tr>\n    <tr>\n      <th>1308</th>\n      <td>3</td>\n      <td>8.0500</td>\n      <td>0</td>\n      <td>1</td>\n    </tr>\n    <tr>\n      <th>1309</th>\n      <td>3</td>\n      <td>22.3583</td>\n      <td>0</td>\n      <td>1</td>\n    </tr>\n  </tbody>\n</table>\n<p>1309 rows × 4 columns</p>\n</div>"
     },
     "metadata": {},
     "execution_count": 58
    }
   ],
   "source": [
    "# replace nulls with 0.0\n",
    "train_test_dummies.fillna(value=0.0, inplace=True)\n",
    "train_test_dummies"
   ]
  },
  {
   "cell_type": "code",
   "execution_count": 59,
   "metadata": {
    "_cell_guid": "bde80620-0c0f-4173-b081-f0dc71fa3382",
    "_uuid": "6c4f455eaa9ddeadb6a03aeb9c10ba683b0348c3",
    "collapsed": true
   },
   "outputs": [],
   "source": [
    "# generate feature sets (X)\n",
    "X_train = train_test_dummies.values[0:891]\n",
    "X_test = train_test_dummies.values[891:]"
   ]
  },
  {
   "cell_type": "code",
   "execution_count": 60,
   "metadata": {
    "_cell_guid": "f2e35eeb-87db-4fcf-bd51-f4e397466477",
    "_uuid": "edde98514a8d5e5abb08c19e44f80d48491699a9"
   },
   "outputs": [
    {
     "output_type": "execute_result",
     "data": {
      "text/plain": "((891, 4), (418, 4))"
     },
     "metadata": {},
     "execution_count": 60
    }
   ],
   "source": [
    "X_train.shape, X_test.shape"
   ]
  },
  {
   "cell_type": "code",
   "execution_count": 61,
   "metadata": {},
   "outputs": [
    {
     "output_type": "execute_result",
     "data": {
      "text/plain": "array([[ 3.    ,  7.25  ,  0.    ,  1.    ],\n       [ 1.    , 71.2833,  1.    ,  0.    ],\n       [ 3.    ,  7.925 ,  1.    ,  0.    ],\n       ...,\n       [ 3.    , 23.45  ,  1.    ,  0.    ],\n       [ 1.    , 30.    ,  0.    ,  1.    ],\n       [ 3.    ,  7.75  ,  0.    ,  1.    ]])"
     },
     "metadata": {},
     "execution_count": 61
    }
   ],
   "source": [
    "X_train"
   ]
  },
  {
   "cell_type": "code",
   "execution_count": 62,
   "metadata": {},
   "outputs": [
    {
     "output_type": "execute_result",
     "data": {
      "text/plain": "array([[ 3.    ,  7.8292,  0.    ,  1.    ],\n       [ 3.    ,  7.    ,  1.    ,  0.    ],\n       [ 2.    ,  9.6875,  0.    ,  1.    ],\n       ...,\n       [ 3.    ,  7.25  ,  0.    ,  1.    ],\n       [ 3.    ,  8.05  ,  0.    ,  1.    ],\n       [ 3.    , 22.3583,  0.    ,  1.    ]])"
     },
     "metadata": {},
     "execution_count": 62
    }
   ],
   "source": [
    "X_test"
   ]
  },
  {
   "cell_type": "code",
   "execution_count": 63,
   "metadata": {
    "_cell_guid": "54ccd884-a4cb-4e3f-8474-cacc138d0516",
    "_uuid": "475f635e920374d6477069274c3a2c38c253522d",
    "collapsed": true
   },
   "outputs": [
    {
     "output_type": "execute_result",
     "data": {
      "text/plain": "array([[1.        , 0.01415106, 0.        , 1.        ],\n       [0.        , 0.13913574, 1.        , 0.        ],\n       [1.        , 0.01546857, 1.        , 0.        ],\n       ...,\n       [1.        , 0.04577135, 1.        , 0.        ],\n       [0.        , 0.0585561 , 0.        , 1.        ],\n       [1.        , 0.01512699, 0.        , 1.        ]])"
     },
     "metadata": {},
     "execution_count": 63
    }
   ],
   "source": [
    "# transform data\n",
    "from sklearn.preprocessing import MinMaxScaler\n",
    "\n",
    "scaler = MinMaxScaler()\n",
    "X_train_scale = scaler.fit_transform(X_train)\n",
    "X_train_scale"
   ]
  },
  {
   "cell_type": "code",
   "execution_count": 64,
   "metadata": {},
   "outputs": [
    {
     "output_type": "execute_result",
     "data": {
      "text/plain": "array([[1.        , 0.01528158, 0.        , 1.        ],\n       [1.        , 0.01366309, 1.        , 0.        ],\n       [0.5       , 0.01890874, 0.        , 1.        ],\n       ...,\n       [1.        , 0.01415106, 0.        , 1.        ],\n       [1.        , 0.01571255, 0.        , 1.        ],\n       [1.        , 0.0436405 , 0.        , 1.        ]])"
     },
     "metadata": {},
     "execution_count": 64
    }
   ],
   "source": [
    "X_test_scale = scaler.transform(X_test)\n",
    "X_test_scale"
   ]
  },
  {
   "cell_type": "code",
   "execution_count": 65,
   "metadata": {
    "_cell_guid": "0267668a-2d0b-4100-9f01-d62ea223f255",
    "_uuid": "88c7474b84140769950a4f9ab4c6b569e1055344",
    "collapsed": true
   },
   "outputs": [],
   "source": [
    "# split training feature and target sets into training and validation subsets\n",
    "from sklearn.model_selection import train_test_split\n",
    "\n",
    "X_train_sub, X_validation_sub, y_train_sub, y_validation_sub = train_test_split(X_train_scale, y_train, random_state=0)"
   ]
  },
  {
   "cell_type": "code",
   "execution_count": 66,
   "metadata": {
    "_cell_guid": "f7b8480f-29c5-4836-9413-6948ddabbe59",
    "_uuid": "ffc7904a739f25f9c3bea12c8656593b567a62f9",
    "collapsed": true
   },
   "outputs": [],
   "source": [
    "# import machine learning algorithms\n",
    "from sklearn.ensemble import GradientBoostingClassifier\n",
    "from sklearn.metrics import classification_report, confusion_matrix, roc_curve, auc"
   ]
  },
  {
   "cell_type": "code",
   "execution_count": 67,
   "metadata": {
    "_cell_guid": "2148d2b3-de61-4a6e-91d7-620abfda60cf",
    "_uuid": "9fde35f84e892377ae4ae8960531278069706c0f",
    "tags": []
   },
   "outputs": [
    {
     "output_type": "stream",
     "name": "stdout",
     "text": "Learning rate:  0.05\nAccuracy score (training): 0.789\nAccuracy score (validation): 0.780\n\nLearning rate:  0.1\nAccuracy score (training): 0.792\nAccuracy score (validation): 0.780\n\nLearning rate:  0.25\nAccuracy score (training): 0.816\nAccuracy score (validation): 0.803\n\nLearning rate:  0.5\nAccuracy score (training): 0.826\nAccuracy score (validation): 0.834\n\nLearning rate:  0.75\nAccuracy score (training): 0.831\nAccuracy score (validation): 0.789\n\nLearning rate:  1\nAccuracy score (training): 0.831\nAccuracy score (validation): 0.789\n\n"
    }
   ],
   "source": [
    "# train with Gradient Boosting algorithm\n",
    "# compute the accuracy scores on train and validation sets when training with different learning rates\n",
    "\n",
    "learning_rates = [0.05, 0.1, 0.25, 0.5, 0.75, 1]\n",
    "for learning_rate in learning_rates:\n",
    "    gb = GradientBoostingClassifier(n_estimators=20, learning_rate = learning_rate, max_features=2, max_depth = 2, random_state = 0)\n",
    "    gb.fit(X_train_sub, y_train_sub)\n",
    "    print(\"Learning rate: \", learning_rate)\n",
    "    print(\"Accuracy score (training): {0:.3f}\".format(gb.score(X_train_sub, y_train_sub)))\n",
    "    print(\"Accuracy score (validation): {0:.3f}\".format(gb.score(X_validation_sub, y_validation_sub)))\n",
    "    print()"
   ]
  },
  {
   "cell_type": "code",
   "execution_count": 68,
   "metadata": {
    "_cell_guid": "16c7ddeb-6461-4913-ac65-9d4195ab3558",
    "_uuid": "bac0432eeb71e6153020ad7768187bdd35da29b2",
    "tags": []
   },
   "outputs": [
    {
     "output_type": "stream",
     "name": "stdout",
     "text": "Confusion Matrix:\n[[131   8]\n [ 29  55]]\n\nClassification Report\n              precision    recall  f1-score   support\n\n           0       0.82      0.94      0.88       139\n           1       0.87      0.65      0.75        84\n\n    accuracy                           0.83       223\n   macro avg       0.85      0.80      0.81       223\nweighted avg       0.84      0.83      0.83       223\n\n"
    }
   ],
   "source": [
    "# Output confusion matrix and classification report of Gradient Boosting algorithm on validation set\n",
    "\n",
    "gb = GradientBoostingClassifier(n_estimators=20, learning_rate = 0.5, max_features=2, max_depth = 2, random_state = 0)\n",
    "gb.fit(X_train_sub, y_train_sub)\n",
    "predictions = gb.predict(X_validation_sub)\n",
    "\n",
    "print(\"Confusion Matrix:\")\n",
    "print(confusion_matrix(y_validation_sub, predictions))\n",
    "print()\n",
    "print(\"Classification Report\")\n",
    "print(classification_report(y_validation_sub, predictions))"
   ]
  },
  {
   "cell_type": "code",
   "execution_count": 69,
   "metadata": {
    "_cell_guid": "f5645dd3-0257-4774-bf1f-65c45f7ca118",
    "_uuid": "7b44cefe0aa39f660454b78c153b2aba69865c35",
    "tags": []
   },
   "outputs": [
    {
     "output_type": "stream",
     "name": "stdout",
     "text": "Area under ROC curve = 0.88\n"
    }
   ],
   "source": [
    "# ROC curve and Area-Under-Curve (AUC)\n",
    "\n",
    "y_scores_gb = gb.decision_function(X_validation_sub)\n",
    "fpr_gb, tpr_gb, _ = roc_curve(y_validation_sub, y_scores_gb)\n",
    "roc_auc_gb = auc(fpr_gb, tpr_gb)\n",
    "\n",
    "print(\"Area under ROC curve = {:0.2f}\".format(roc_auc_gb))"
   ]
  }
 ],
 "metadata": {
  "kernelspec": {
   "name": "Python 3.8.5 64-bit",
   "display_name": "Python 3.8.5 64-bit",
   "metadata": {
    "interpreter": {
     "hash": "aa5a7a82a422cd82de48e383c2ba6d582cfbdbd8ed54b9d56a08e08bda219e83"
    }
   }
  },
  "language_info": {
   "codemirror_mode": {
    "name": "ipython",
    "version": 3
   },
   "file_extension": ".py",
   "mimetype": "text/x-python",
   "name": "python",
   "nbconvert_exporter": "python",
   "pygments_lexer": "ipython3",
   "version": "3.8.5-final"
  }
 },
 "nbformat": 4,
 "nbformat_minor": 1
}